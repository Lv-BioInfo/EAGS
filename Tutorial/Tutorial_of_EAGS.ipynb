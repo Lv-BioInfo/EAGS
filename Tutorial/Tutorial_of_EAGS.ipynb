{
 "cells": [
  {
   "cell_type": "markdown",
   "source": [
    "## This of the work shows how to preprocess data and perform smoothing operations on the H5AD format."
   ],
   "metadata": {
    "collapsed": false
   }
  },
  {
   "cell_type": "code",
   "execution_count": null,
   "outputs": [],
   "source": [
    "import sys\n",
    "import os\n",
    "sys.path.append(os.path.dirname(sys.path[0]))\n",
    "import scanpy as sc\n",
    "from EAGS_function import *\n",
    "import anndata\n",
    "import numpy as np\n",
    "import pandas as pd"
   ],
   "metadata": {
    "collapsed": false
   }
  },
  {
   "cell_type": "code",
   "execution_count": null,
   "outputs": [],
   "source": [
    "def Normalize_using(adata):\n",
    "    \"\"\"\n",
    "    Pre-processing of H5AD data\n",
    "    \"\"\"\n",
    "    adata.var['mt']=adata.var_names.str.startswith(('MT-','mt-'))\n",
    "    sc.pp.calculate_qc_metrics(adata,qc_vars=['mt'],inplace=True)\n",
    "    adata=adata[adata.obs['pct_counts_mt']<10].copy()\n",
    "    sc.pp.filter_cells(adata,min_counts=300)\n",
    "    sc.pp.filter_genes(adata,min_cells=10)\n",
    "    # max_counts=np.percentile(adata.X.sum(1),98.0)\n",
    "    # sc.pp.filter_cells(adata,max_counts=max_counts)\n",
    "    # raw_adata=adata.copy().raw.to_adata()\n",
    "    raw_adata=adata.copy()\n",
    "    sc.pp.normalize_per_cell(adata,counts_per_cell_after=1e4)\n",
    "    sc.pp.log1p(adata)\n",
    "    if type(adata.X)==sp.csr.csr_matrix or type(adata.X)==sp.csc.csc_matrix:\n",
    "        adata.X = adata.X.toarray()\n",
    "    adata.X = (adata.X - adata.X.mean(0)) / adata.X.std(0)\n",
    "    return adata"
   ],
   "metadata": {
    "collapsed": false,
    "pycharm": {
     "name": "#%%\n"
    }
   }
  },
  {
   "cell_type": "code",
   "execution_count": null,
   "outputs": [],
   "source": [
    "# Reading h5ad data and preprocessing it\n",
    "adata_raw = sc.read_h5ad('raw.h5ad')\n",
    "adata_norm = Normalize_using(adata_raw)\n",
    "adata_norm.write_h5ad('norm.h5ad')"
   ],
   "metadata": {
    "collapsed": false,
    "pycharm": {
     "name": "#%%\n"
    }
   }
  },
  {
   "cell_type": "code",
   "execution_count": null,
   "outputs": [],
   "source": [
    "# Processing of normalized h5ad data using EAGS\n",
    "adata_GS = gaussian_smooth_adaptively(adata_norm, normalize_zscore=False)\n",
    "adata_GS.write_h5ad('GS.h5ad')"
   ],
   "metadata": {
    "collapsed": false,
    "pycharm": {
     "name": "#%%\n"
    }
   }
  },
  {
   "cell_type": "code",
   "execution_count": null,
   "outputs": [],
   "source": [],
   "metadata": {
    "collapsed": false,
    "pycharm": {
     "name": "#%%\n"
    }
   }
  },
  {
   "cell_type": "markdown",
   "source": [
    "## This part of the work is used to illustrate how to do various types of downstream analyses"
   ],
   "metadata": {
    "collapsed": false,
    "pycharm": {
     "name": "#%% md\n"
    }
   }
  },
  {
   "cell_type": "code",
   "execution_count": null,
   "outputs": [],
   "source": [
    "# After completing the cell annotations for Spatia ID or TANGRAM, place each single-cell label annotation into\n",
    "# h5ad.obs['celltype_pred'] of the h5ad file\n",
    "#\n",
    "# Spatial-ID DOI：\n",
    "# Shen R, Liu L, Wu Z, et al. Spatial-ID: a cell typing method for spatially resolved transcriptomics via transfer learning and spatial embedding. Nat Commun 2022;13:7640. doi:10.1038/s41467-022-35288-0.\n",
    "#\n",
    "# Tangram DOI：\n",
    "# Biancalani T, Scalia G, Buffoni L, et al. Deep learning and alignment of spatially resolved single-cell transcriptomes with Tangram. Nat Methods 2021;18:1352–62. doi:10.1038/s41592-021-01264-7."
   ],
   "metadata": {
    "collapsed": false,
    "pycharm": {
     "name": "#%%\n"
    }
   }
  },
  {
   "cell_type": "code",
   "execution_count": null,
   "outputs": [],
   "source": [
    "# Spatial cell type map for cell annotation with Spatial-ID or Tangram\n",
    "sc.pl.spatial(adata_GS, color='celltype_pred',spot_size=80)"
   ],
   "metadata": {
    "collapsed": false,
    "pycharm": {
     "name": "#%%\n"
    }
   }
  },
  {
   "cell_type": "code",
   "execution_count": null,
   "outputs": [],
   "source": [
    "# calculating Calinski-Harabasz Index and Davies-Bouldin Index\n",
    "\n",
    "import sklearn.metrics as skm\n",
    "from sklearn.metrics import calinski_harabasz_score, davies_bouldin_score\n",
    "sc.pp.pca(adata_GS,n_comps=50)\n",
    "calinski_harabasz_score(adata_GS.obsm['X_pca'], adata_GS.obs['celltype_pred'])\n",
    "davies_bouldin_score(adata_GS.obsm['X_pca'], adata_GS.obs['celltype_pred'])\n",
    "\n",
    "# calculating Moran's I and Geary's C index of H5AD format file\n",
    "import pandas as pd\n",
    "sc.pp.neighbors(adata_GS, use_rep='spatial')\n",
    "\n",
    "# here is one-hot coding of celltype, if you have deconvolution result, you can have a try\n",
    "adata_GS.obsm['celltype_pred'] = pd.get_dummies(adata_GS.obs['celltype_pred'])\n",
    "correction_mol = sc.metrics.morans_i(adata_GS, obsm='celltype_pred')\n",
    "correction_gec = sc.metrics.gearys_c(adata_GS, obsm='celltype_pred')\n",
    "correction_celltype = adata_GS.obsm['celltype_pred'].columns.to_list()\n",
    "\n",
    "for j in range(len(correction_celltype)):\n",
    "    if str(correction_celltype[j]) in adata_GS.obs['celltype_pred'].values.tolist():\n",
    "        print('Cell Type: ', correction_celltype[j])\n",
    "        print('Geary\\'s C: ', correction_gec[j])\n",
    "        print('Moran\\'s l: ', correction_mol[j])"
   ],
   "metadata": {
    "collapsed": false,
    "pycharm": {
     "name": "#%%\n"
    }
   }
  },
  {
   "cell_type": "code",
   "execution_count": null,
   "outputs": [],
   "source": [
    "# Making spatial maps of a single cell type\n",
    "# Single-cell spatial type data corresponds to the corresponding published spatial cell atlas:\n",
    "# https://scalablebrainatlas.incf.org/mouse/ABA_v3\n",
    "\n",
    "import matplotlib.pyplot as plt\n",
    "import seaborn as sns\n",
    "import pandas as pd\n",
    "import numpy as np\n",
    "cell_list = adata_GS.obs['celltype_pred'].value_counts().index.to_list()\n",
    "for i in cell_list:\n",
    "    sc.pl.spatial(adata_GS,color=[\"celltype_pred\"],groups=i,spot_size=100,color_map='magma',title='EAGS')"
   ],
   "metadata": {
    "collapsed": false,
    "pycharm": {
     "name": "#%%\n"
    }
   }
  },
  {
   "cell_type": "code",
   "execution_count": null,
   "outputs": [],
   "source": [
    "# Make the picture of Heatmap of non-zero ratio between the number of cell types and their marker genes obtained from raw and EAGS smoothed dataset\n",
    "# Each cell type and its corresponding marker gene are saved in Adolescent.txt\n",
    "celltype_name_list = ['TEGLU24', 'TEGLU7', 'MEINH2', 'MOL1','EPEN','VSMCA','DGGRC2','ACTE2']\n",
    "import pandas as pd\n",
    "data = pd.read_table('Adolescent.txt',sep=',', header=None)\n",
    "\n",
    "markergene_dic = {}\n",
    "for index, row in data.iterrows():\n",
    "    list1 = row[1:].to_list()\n",
    "    for i in range(len(list1)):\n",
    "        list1[i] = list1[i][2:-1]\n",
    "    markergene_dic[str(row[0])[1:-1]] = list1\n",
    "marker_genes = []\n",
    "for i in celltype_name_list:\n",
    "    list = markergene_dic[i]\n",
    "    print('cell:' + i + ' genes : ' + str(list))\n",
    "    for j in list:\n",
    "        marker_genes.append(j)\n",
    "\n",
    "pd_concat = pd.DataFrame()\n",
    "pd_concat_1 = pd.DataFrame()\n",
    "pd_concat_2 = pd.DataFrame()\n",
    "pd3 = pd.DataFrame()\n",
    "for i in celltype_name_list:\n",
    "    df1 = adata_norm[adata_norm.obs['celltype_pred'] == i,adata_norm.var_names.isin(marker_genes)].to_df()\n",
    "    df2 = adata_GS[adata_GS.obs['celltype_pred'] == i,adata_GS.var_names.isin(marker_genes)].to_df()\n",
    "\n",
    "    df1 = df1[marker_genes]\n",
    "    df2 = df2[marker_genes]\n",
    "\n",
    "    ## Count how many cells of a specific cell type are labeled before and after the interpolation.\n",
    "    cellnum1 = df1.index.__len__()\n",
    "    cellnum2 = df2.index.__len__()\n",
    "    ## The percentage of cells expressing a particular markergene in a particular cell type before and after the interpolation was counted separately.\n",
    "    # nonzero_sum_1 = df1[df1 !=0].sum()\n",
    "    nonzero_num_1 = ((df1!=0)==True).sum(0)\n",
    "    # nonzero_1 = pd.DataFrame(nonzero_sum_1 /nonzero_num_1,columns=['raw_' + i])\n",
    "\n",
    "    # nonzero_sum_2 = df2[df2 !=0].sum()\n",
    "    nonzero_num_2 = ((df2!=0)==True).sum(0)\n",
    "    # nonzero_2 = pd.DataFrame(nonzero_sum_2 /nonzero_num_2,columns=['EAGS_' + i])\n",
    "\n",
    "    pd1 = pd.DataFrame(nonzero_num_1/cellnum1,columns=['raw_' + i])\n",
    "    pd2 = pd.DataFrame(nonzero_num_2/cellnum2,columns=['EAGS_' + i])\n",
    "    pd_concat_1 = pd.concat([pd_concat_1,pd1],axis=1)\n",
    "    pd_concat_2 = pd.concat([pd_concat_2,pd2],axis=1)\n",
    "pd_concat = pd.concat([pd_concat_1,pd_concat_2],axis=1)\n",
    "pd_concat = pd_concat.T\n",
    "\n",
    "plt.style.use('seaborn-paper')\n",
    "sns.set(font_scale=0.5)\n",
    "pdf = sns.heatmap(pd_concat)\n",
    "pdf = sns.clustermap(pd_concat)\n",
    "pdf.figure.savefig('heatmap_norm_EAGS.pdf')"
   ],
   "metadata": {
    "collapsed": false,
    "pycharm": {
     "name": "#%%\n"
    }
   }
  },
  {
   "cell_type": "code",
   "execution_count": null,
   "outputs": [],
   "source": [],
   "metadata": {
    "collapsed": false,
    "pycharm": {
     "name": "#%%\n"
    }
   }
  },
  {
   "cell_type": "code",
   "execution_count": null,
   "outputs": [],
   "source": [
    "# Make the heatmap of the spatial distribution of the number of MID counts for a given genotype\n",
    "from heatmap_make import *\n",
    "gene_list = ['Slc6a3','Slc18a3','Cartpt']\n",
    "show_markerlist(adata_GS,\n",
    "                gene_list,\n",
    "                size=3,\n",
    "                save_path='.',\n",
    "                semititle='EAGS_')"
   ],
   "metadata": {
    "collapsed": false,
    "pycharm": {
     "name": "#%%\n"
    }
   }
  },
  {
   "cell_type": "code",
   "execution_count": null,
   "outputs": [],
   "source": [],
   "metadata": {
    "collapsed": false,
    "pycharm": {
     "name": "#%%\n"
    }
   }
  },
  {
   "cell_type": "code",
   "execution_count": null,
   "outputs": [],
   "source": [
    "# Difference between the processed EAGS data and the original data calculated using L2-error\n",
    "# For use on simulation datasets containing Ground Truth Counts generated by ScDesign3.\n",
    "# ScDesign3 DOI:\n",
    "# Song D, Wang Q, Yan G, et al. scDesign3 generates realistic in silico data for multimodal single-cell and spatial omics. Nat Biotechnol 2023; Nature Research; 2023;1-6. doi: https://doi.org/10.1038/s41587-023-01772-1.\n",
    "\n",
    "import warnings\n",
    "warnings.filterwarnings(\"ignore\")\n",
    "import scanpy as sc\n",
    "from sklearn.preprocessing import MinMaxScaler\n",
    "scaler = MinMaxScaler()\n",
    "import scipy.sparse as sp\n",
    "from numpy import *\n",
    "\n",
    "true_counts = adata_norm.X\n",
    "GS_counts = adata_GS.X\n",
    "\n",
    "TrueData = scaler.fit_transform(true_counts)\n",
    "imputedData = scaler.fit_transform(GS_counts)\n",
    "Datadiff=imputedData-TrueData\n",
    "L2_error=np.linalg.norm(Datadiff)\n",
    "print('L2-error between True and GS counts is ' + str(L2_error))"
   ],
   "metadata": {
    "collapsed": false,
    "pycharm": {
     "name": "#%%\n"
    }
   }
  },
  {
   "cell_type": "code",
   "execution_count": null,
   "outputs": [],
   "source": [],
   "metadata": {
    "collapsed": false,
    "pycharm": {
     "name": "#%%\n"
    }
   }
  }
 ],
 "metadata": {
  "kernelspec": {
   "display_name": "Python 3",
   "language": "python",
   "name": "python3"
  },
  "language_info": {
   "codemirror_mode": {
    "name": "ipython",
    "version": 2
   },
   "file_extension": ".py",
   "mimetype": "text/x-python",
   "name": "python",
   "nbconvert_exporter": "python",
   "pygments_lexer": "ipython2",
   "version": "2.7.6"
  }
 },
 "nbformat": 4,
 "nbformat_minor": 0
}